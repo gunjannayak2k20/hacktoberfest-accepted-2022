{
 "cells": [
  {
   "cell_type": "code",
   "execution_count": 1,
   "id": "a29327f3",
   "metadata": {},
   "outputs": [],
   "source": [
    "import cv2\n",
    "input_image = cv2.imread(\"1 no.jpeg\")"
   ]
  },
  {
   "cell_type": "code",
   "execution_count": 2,
   "id": "0ce620ea",
   "metadata": {},
   "outputs": [],
   "source": [
    "filterSize =(3, 3)\n",
    "kernel = cv2.getStructuringElement(cv2.MORPH_RECT, filterSize)"
   ]
  },
  {
   "cell_type": "code",
   "execution_count": 3,
   "id": "1036e387",
   "metadata": {},
   "outputs": [],
   "source": [
    "tophat_img = cv2.morphologyEx(input_image, \n",
    "                              cv2.MORPH_TOPHAT,\n",
    "                              kernel)"
   ]
  },
  {
   "cell_type": "code",
   "execution_count": 4,
   "id": "fffe8719",
   "metadata": {},
   "outputs": [],
   "source": [
    "cv2.imshow(\"original\", input_image)\n",
    "cv2.imshow(\"tophat\", tophat_img)\n",
    "cv2.waitKey(0)\n",
    "cv2.destroyAllWindows()"
   ]
  },
  {
   "cell_type": "code",
   "execution_count": 5,
   "id": "e28a7f37",
   "metadata": {},
   "outputs": [],
   "source": [
    "blackhat_img = cv2.morphologyEx(input_image, \n",
    "                              cv2.MORPH_BLACKHAT,\n",
    "                              kernel)"
   ]
  },
  {
   "cell_type": "code",
   "execution_count": 6,
   "id": "b7fffe00",
   "metadata": {},
   "outputs": [],
   "source": [
    "cv2.imshow(\"original\", input_image)\n",
    "cv2.imshow(\"tophat\", blackhat_img)\n",
    "cv2.waitKey(5000)\n",
    "cv2.waitKey(0)\n",
    "cv2.destroyAllWindows()"
   ]
  },
  {
   "cell_type": "code",
   "execution_count": 7,
   "id": "f22a3a65",
   "metadata": {},
   "outputs": [],
   "source": [
    "final = input_image + tophat_img - blackhat_img"
   ]
  },
  {
   "cell_type": "code",
   "execution_count": 8,
   "id": "b06086ad",
   "metadata": {},
   "outputs": [],
   "source": [
    "cv2.imshow(\"original\", input_image)\n",
    "cv2.imshow(\"final\", final)\n",
    "cv2.waitKey(5000)\n",
    "cv2.waitKey(0)\n",
    "cv2.destroyAllWindows()"
   ]
  },
  {
   "cell_type": "code",
   "execution_count": 9,
   "id": "643b9839",
   "metadata": {},
   "outputs": [
    {
     "name": "stdout",
     "output_type": "stream",
     "text": [
      "PSNR value is 39.9713719097146 dB\n"
     ]
    }
   ],
   "source": [
    "from math import log10, sqrt\n",
    "import cv2\n",
    "import numpy as np\n",
    "def PSNR(original, compressed):\n",
    "    mse = np.mean((original - compressed) ** 2)\n",
    "    if(mse == 0): # MSE is zero means no noise is present in the signal .\n",
    "        # Therefore PSNR have no importance.\n",
    "        return 100\n",
    "    max_pixel = 255.0\n",
    "    psnr = 20 * log10(max_pixel / sqrt(mse))\n",
    "    return psnr\n",
    "\n",
    "def main():\n",
    "#     original = cv2.imread(\"1 no.jpeg\")\n",
    "#     compressed = cv2.imread(\"output.png\", 1)\n",
    "    value = PSNR(input_image, final)\n",
    "    \n",
    "    print(f\"PSNR value is {value} dB\")\n",
    "\n",
    "if __name__ == \"__main__\":\n",
    "    main()"
   ]
  },
  {
   "cell_type": "code",
   "execution_count": null,
   "id": "4f273f1d",
   "metadata": {},
   "outputs": [],
   "source": []
  },
  {
   "cell_type": "code",
   "execution_count": null,
   "id": "d6877fe5",
   "metadata": {},
   "outputs": [],
   "source": []
  },
  {
   "cell_type": "code",
   "execution_count": null,
   "id": "34e11fe4",
   "metadata": {},
   "outputs": [],
   "source": []
  },
  {
   "cell_type": "code",
   "execution_count": 10,
   "id": "57232796",
   "metadata": {},
   "outputs": [],
   "source": [
    "import cv2\n",
    "import numpy as np\n",
    "img = cv2.imread(\"1 no.jpeg\",0) # Read image\n",
    "\n",
    "sobelx = cv2.Sobel(img,cv2.CV_64F,1,0,ksize=5)  # x\n",
    "sobely = cv2.Sobel(img,cv2.CV_64F,0,1,ksize=5)  # y\n",
    "\n",
    "cv2.imshow('original', img)\n",
    "cv2.imshow(\"SobelX  SobelY\",np.hstack((sobelx,sobely)))\n",
    "\n",
    "\n",
    "# cv2.imshow('original', img)\n",
    "# cv2.imshow('sobelx', sobelx)\n",
    "# cv2.imshow('sobely', sobely)\n",
    "cv2.waitKey(0)\n",
    "cv2.destroyAllWindows()\n",
    "\n"
   ]
  },
  {
   "cell_type": "code",
   "execution_count": 18,
   "id": "40c1c788",
   "metadata": {},
   "outputs": [
    {
     "name": "stdout",
     "output_type": "stream",
     "text": [
      "<class 'numpy.ndarray'> <class 'numpy.ndarray'>\n",
      "(630, 630, 3) (630, 630, 3)\n"
     ]
    }
   ],
   "source": [
    "print(type(sobelx), type(sobely))\n",
    "print(sobelx.shape, sobely.shape)"
   ]
  },
  {
   "cell_type": "code",
   "execution_count": 15,
   "id": "3b5cac6a",
   "metadata": {},
   "outputs": [],
   "source": [
    "import cv2\n",
    "import numpy as np\n",
    "img = cv2.imread(\"1 no.jpeg\",0) # Read image\n",
    "\n",
    "sobelx = cv2.Sobel(final,cv2.CV_64F,1,0,ksize=5)  # x\n",
    "sobely = cv2.Sobel(final,cv2.CV_64F,0,1,ksize=5)  # y\n",
    "\n",
    "cv2.imshow('original', img)\n",
    "cv2.imshow(\"SobelX  SobelY\",np.hstack((sobelx,sobely)))\n",
    "\n",
    "\n",
    "# cv2.imshow('original', img)\n",
    "# cv2.imshow('sobelx', sobelx)\n",
    "# cv2.imshow('sobely', sobely)\n",
    "cv2.waitKey(0)\n",
    "cv2.destroyAllWindows()\n",
    "\n"
   ]
  },
  {
   "cell_type": "code",
   "execution_count": null,
   "id": "4b577395",
   "metadata": {},
   "outputs": [],
   "source": [
    "import cv2\n",
    "\n",
    "img = cv2.imread(\"1 no.jpeg\") # Read image\n",
    "\n",
    "# Setting parameter values\n",
    "t_lower = 50 # Lower Threshold\n",
    "t_upper = 150 # Upper threshold\n",
    "\n",
    "# Applying the Canny Edge filter\n",
    "edge = cv2.Canny(img, t_lower, t_upper)\n",
    "\n",
    "cv2.imshow('original', img)\n",
    "cv2.imshow('edge', edge)\n",
    "cv2.waitKey(0)\n",
    "cv2.destroyAllWindows()\n"
   ]
  },
  {
   "cell_type": "code",
   "execution_count": 1,
   "id": "9497ba4c",
   "metadata": {},
   "outputs": [],
   "source": [
    "import cv2\n",
    "import numpy as np\n",
    "img = cv2.imread(\"1 no.jpeg\",0) # Read image\n",
    "\n",
    "sobelx = cv2.Sobel(img,cv2.CV_64F,1,0,ksize=5)  # x\n",
    "sobely = cv2.Sobel(img,cv2.CV_64F,0,1,ksize=5)  # y\n",
    "\n",
    "cv2.imshow('original', img)\n",
    "cv2.imshow(\"SobelX  SobelY\",np.hstack((sobelx,sobely)))\n",
    "\n",
    "\n",
    "# cv2.imshow('original', img)\n",
    "# cv2.imshow('sobelx', sobelx)\n",
    "# cv2.imshow('sobely', sobely)\n",
    "cv2.waitKey(0)\n",
    "cv2.destroyAllWindows()\n",
    "\n"
   ]
  },
  {
   "cell_type": "code",
   "execution_count": 2,
   "id": "4b829234",
   "metadata": {},
   "outputs": [
    {
     "ename": "NameError",
     "evalue": "name 'Image' is not defined",
     "output_type": "error",
     "traceback": [
      "\u001b[1;31m---------------------------------------------------------------------------\u001b[0m",
      "\u001b[1;31mNameError\u001b[0m                                 Traceback (most recent call last)",
      "\u001b[1;32m<ipython-input-2-801f87ee3ac7>\u001b[0m in \u001b[0;36m<module>\u001b[1;34m\u001b[0m\n\u001b[1;32m----> 1\u001b[1;33m \u001b[0msobelX\u001b[0m\u001b[1;33m=\u001b[0m\u001b[0mImage\u001b[0m\u001b[1;33m.\u001b[0m\u001b[0mfromarray\u001b[0m\u001b[1;33m(\u001b[0m\u001b[0msobelx\u001b[0m\u001b[1;33m)\u001b[0m\u001b[1;33m\u001b[0m\u001b[0m\n\u001b[0m\u001b[0;32m      2\u001b[0m \u001b[0msobelX\u001b[0m\u001b[1;33m.\u001b[0m\u001b[0mshow\u001b[0m\u001b[1;33m(\u001b[0m\u001b[1;33m)\u001b[0m\u001b[1;33m\u001b[0m\u001b[0m\n\u001b[0;32m      3\u001b[0m \u001b[0msobelY\u001b[0m\u001b[1;33m=\u001b[0m\u001b[0mImage\u001b[0m\u001b[1;33m.\u001b[0m\u001b[0mfromarray\u001b[0m\u001b[1;33m(\u001b[0m\u001b[0msobely\u001b[0m\u001b[1;33m)\u001b[0m\u001b[1;33m\u001b[0m\u001b[0m\n\u001b[0;32m      4\u001b[0m \u001b[0msobelY\u001b[0m\u001b[1;33m.\u001b[0m\u001b[0mshow\u001b[0m\u001b[1;33m(\u001b[0m\u001b[1;33m)\u001b[0m\u001b[1;33m\u001b[0m\u001b[0m\n",
      "\u001b[1;31mNameError\u001b[0m: name 'Image' is not defined"
     ]
    }
   ],
   "source": [
    "sobelX=Image.fromarray(sobelx)\n",
    "sobelX.show()\n",
    "sobelY=Image.fromarray(sobely)\n",
    "sobelY.show()"
   ]
  },
  {
   "cell_type": "code",
   "execution_count": 2,
   "id": "f9603880",
   "metadata": {},
   "outputs": [],
   "source": [
    "import numpy as np\n",
    "from PIL import Image as im\n",
    "\n",
    "sobelX = im.fromarray(sobelx)\n",
    "sobelX = sobelX.convert(\"L\")\n",
    "sobelX.save('sobelX.png')"
   ]
  },
  {
   "cell_type": "code",
   "execution_count": 3,
   "id": "bcdaca8e",
   "metadata": {},
   "outputs": [],
   "source": [
    "import numpy as np\n",
    "from PIL import Image as im\n",
    "sobelY = im.fromarray(sobely)\n",
    "sobelY = sobelY.convert(\"L\")\n",
    "sobelY.save('sobelY.png')"
   ]
  },
  {
   "cell_type": "code",
   "execution_count": 11,
   "id": "3c342eca",
   "metadata": {},
   "outputs": [],
   "source": [
    "#Equalizing the Image Histogram (to improve contrast)\n",
    "from PIL import Image\n",
    "import numpy as np\n",
    "import scipy.misc , math\n",
    "import scipy as sc\n",
    "img = Image.open('sobelX.png')\n",
    "img1 = np.asarray(img)\n",
    "flat = img1.flatten()\n",
    "hist, bins = np.histogram(img1,256,[0,255])\n",
    "cdf = hist.cumsum()\n",
    "cdf_m = np.ma.masked_equal(cdf,0)\n",
    "num_cdf_m = (cdf_m - cdf_m.min())*255\n",
    "den_cdf_m = (cdf_m.max() - cdf_m.min())\n",
    "cdf_m = num_cdf_m / den_cdf_m\n",
    "cdf = np.ma.filled(cdf_m,0).astype('uint8')\n",
    "img2 = cdf[flat]\n",
    "img3_sobelX = np.reshape(img2,img1.shape)\n",
    "eq_img_sobelX = Image.fromarray(img3_sobelX)"
   ]
  },
  {
   "cell_type": "code",
   "execution_count": 12,
   "id": "fe20c451",
   "metadata": {},
   "outputs": [],
   "source": [
    "eq_img_sobelX.show()"
   ]
  },
  {
   "cell_type": "code",
   "execution_count": 13,
   "id": "c68d5393",
   "metadata": {},
   "outputs": [],
   "source": [
    "#Equalizing the Image Histogram (to improve contrast)\n",
    "from PIL import Image\n",
    "import numpy as np\n",
    "import scipy.misc , math\n",
    "import scipy as sc\n",
    "img_Y = Image.open('sobelY.png')\n",
    "imgY = np.asarray(img_Y)\n",
    "flat = imgY.flatten()\n",
    "hist, bins = np.histogram(imgY,256,[0,255])\n",
    "cdf = hist.cumsum()\n",
    "cdf_m = np.ma.masked_equal(cdf,0)\n",
    "num_cdf_m = (cdf_m - cdf_m.min())*255\n",
    "den_cdf_m = (cdf_m.max() - cdf_m.min())\n",
    "cdf_m = num_cdf_m / den_cdf_m\n",
    "cdf = np.ma.filled(cdf_m,0).astype('uint8')\n",
    "img2 = cdf[flat]\n",
    "img3_sobelY = np.reshape(img2,img1.shape)\n",
    "eq_img_sobelY = Image.fromarray(img3_sobelY)"
   ]
  },
  {
   "cell_type": "code",
   "execution_count": 14,
   "id": "5637b84f",
   "metadata": {},
   "outputs": [],
   "source": [
    "eq_img_sobelY.show()"
   ]
  },
  {
   "cell_type": "code",
   "execution_count": 15,
   "id": "a0d2f2b1",
   "metadata": {},
   "outputs": [
    {
     "name": "stdout",
     "output_type": "stream",
     "text": [
      "<class 'numpy.ndarray'> (630, 630)\n",
      "<class 'numpy.ndarray'> <class 'numpy.ndarray'> <class 'numpy.ndarray'>\n",
      "(630, 630) (630, 630) (630, 630)\n"
     ]
    }
   ],
   "source": [
    "img = cv2.imread(\"1 no.jpeg\",0)\n",
    "imgNP = np.asarray(img)\n",
    "print(type(imgNP), imgNP.shape)\n",
    "img = Image.open('sobelX.png')\n",
    "img1 = np.asarray(img)\n",
    "img_Y = Image.open('sobelY.png')\n",
    "imgY = np.asarray(img_Y)\n",
    "print(type(imgNP),type(img1), type(imgY))\n",
    "print(imgNP.shape,img1.shape, imgY.shape)"
   ]
  },
  {
   "cell_type": "code",
   "execution_count": 16,
   "id": "92f8a786",
   "metadata": {},
   "outputs": [],
   "source": [
    "#Equalizing the Image Histogram (to improve contrast)\n",
    "from PIL import Image\n",
    "import numpy as np\n",
    "import scipy.misc , math\n",
    "import scipy as sc\n",
    "img = Image.open('sobelX.png')\n",
    "img1 = np.asarray(img)\n",
    "flat = img1.flatten()\n",
    "hist, bins = np.histogram(img1,256,[0,255])\n",
    "cdf = hist.cumsum()\n",
    "cdf_m = np.ma.masked_equal(cdf,0)\n",
    "num_cdf_m = (cdf_m - cdf_m.min())*255\n",
    "den_cdf_m = (cdf_m.max() - cdf_m.min())\n",
    "cdf_m = num_cdf_m / den_cdf_m\n",
    "cdf = np.ma.filled(cdf_m,0).astype('uint8')\n",
    "img2 = cdf[flat]\n",
    "img3_sobelX = np.reshape(img2,img1.shape)\n",
    "eq_img_sobelX = Image.fromarray(img3_sobelX)"
   ]
  },
  {
   "cell_type": "code",
   "execution_count": 17,
   "id": "fae16d78",
   "metadata": {},
   "outputs": [
    {
     "name": "stdout",
     "output_type": "stream",
     "text": [
      "<class 'numpy.ndarray'> <class 'numpy.ndarray'> <class 'numpy.ndarray'>\n",
      "(630, 630) (630, 630) (630, 630)\n"
     ]
    }
   ],
   "source": [
    "img = cv2.imread(\"1 no.jpeg\",0)\n",
    "imgNP = np.asarray(img)\n",
    "\n",
    "img = Image.open('sobelX.png')\n",
    "img1 = np.asarray(img)\n",
    "\n",
    "print(type(imgNP), type(img1),type(img3_sobelX))\n",
    "print(imgNP.shape, img1.shape, img3_sobelX.shape)"
   ]
  },
  {
   "cell_type": "code",
   "execution_count": 19,
   "id": "9a1de5ac",
   "metadata": {},
   "outputs": [],
   "source": [
    "cv2.imshow('CE_sobelX', img3_sobelX)\n",
    "cv2.waitKey(0)\n",
    "cv2.destroyAllWindows()"
   ]
  },
  {
   "cell_type": "code",
   "execution_count": 20,
   "id": "0c1b0a5d",
   "metadata": {},
   "outputs": [
    {
     "name": "stdout",
     "output_type": "stream",
     "text": [
      "PSNR value is 29.723714428564403 dB\n"
     ]
    }
   ],
   "source": [
    "from math import log10, sqrt\n",
    "import cv2\n",
    "import numpy as np\n",
    "def PSNR(original, compressed):\n",
    "    mse = np.mean((original - compressed) ** 2)\n",
    "    if(mse == 0): # MSE is zero means no noise is present in the signal .\n",
    "        # Therefore PSNR have no importance.\n",
    "        return 100\n",
    "    max_pixel = 255.0\n",
    "    psnr = 20 * log10(max_pixel / sqrt(mse))\n",
    "    return psnr\n",
    "\n",
    "def main():\n",
    "#     original = cv2.imread(\"1 no.jpeg\")\n",
    "#     compressed = cv2.imread(\"output.png\", 1)\n",
    "    value = PSNR(imgNP, img1)\n",
    "    \n",
    "    print(f\"PSNR value is {value} dB\")\n",
    "\n",
    "if __name__ == \"__main__\":\n",
    "    main()"
   ]
  },
  {
   "cell_type": "code",
   "execution_count": 22,
   "id": "c8863a66",
   "metadata": {},
   "outputs": [
    {
     "name": "stdout",
     "output_type": "stream",
     "text": [
      "PSNR value is 33.42071833636603 dB\n"
     ]
    }
   ],
   "source": [
    "from math import log10, sqrt\n",
    "import cv2\n",
    "import numpy as np\n",
    "def PSNR(original, compressed):\n",
    "    mse = np.mean((original - compressed) ** 2)\n",
    "    if(mse == 0): # MSE is zero means no noise is present in the signal .\n",
    "        # Therefore PSNR have no importance.\n",
    "        return 100\n",
    "    max_pixel = 255.0\n",
    "    psnr = 20 * log10(max_pixel / sqrt(mse))\n",
    "    return psnr\n",
    "\n",
    "def main():\n",
    "#     original = cv2.imread(\"1 no.jpeg\")\n",
    "#     compressed = cv2.imread(\"output.png\", 1)\n",
    "    value = PSNR(img1, img3_sobelX)\n",
    "    \n",
    "    print(f\"PSNR value is {value} dB\")\n",
    "\n",
    "if __name__ == \"__main__\":\n",
    "    main()"
   ]
  },
  {
   "cell_type": "code",
   "execution_count": 24,
   "id": "3b466be0",
   "metadata": {},
   "outputs": [],
   "source": [
    "import numpy as np\n",
    "import pandas as pd\n",
    "import cv2\n",
    "img = cv2.imread(\"1 no.jpeg\",0)\n",
    "gaussBlur = cv2.GaussianBlur(img,(5,5),cv2.BORDER_DEFAULT)\n",
    "cv2.imshow(\"Gaussian Smoothing\",np.hstack((img,gaussBlur)))\n",
    "cv2.waitKey(0)\n",
    "cv2.destroyAllWindows()"
   ]
  },
  {
   "cell_type": "code",
   "execution_count": 25,
   "id": "face0d80",
   "metadata": {},
   "outputs": [],
   "source": [
    "highPass = img - gaussBlur\n",
    "# or We can use this statement to filter the high pass image\n",
    "#highPass = highPass + 127*np.ones(img.shape, np.uint8)\n",
    "cv2.imshow(\"High Pass\",np.hstack((img, highPass)))\n",
    "cv2.waitKey(0)\n",
    "cv2.destroyAllWindows()"
   ]
  },
  {
   "cell_type": "code",
   "execution_count": 26,
   "id": "5e80de12",
   "metadata": {},
   "outputs": [
    {
     "data": {
      "text/plain": [
       "(630, 630)"
      ]
     },
     "execution_count": 26,
     "metadata": {},
     "output_type": "execute_result"
    }
   ],
   "source": [
    "highPass.shape"
   ]
  },
  {
   "cell_type": "code",
   "execution_count": 20,
   "id": "3c15fc21",
   "metadata": {},
   "outputs": [],
   "source": [
    "import numpy as np\n",
    "from PIL import Image as im\n",
    "\n",
    "highPass = im.fromarray(highPass)\n",
    "highPass = highPass.convert(\"L\")\n",
    "highPass.save('highPass.png')"
   ]
  },
  {
   "cell_type": "code",
   "execution_count": 27,
   "id": "42fa5603",
   "metadata": {},
   "outputs": [],
   "source": [
    "kernel = np.ones((10,10),np.float32)/25\n",
    "lowPass = cv2.filter2D(img,-1, kernel)\n",
    "lowPass = img - lowPass\n",
    "cv2.imshow(\"Low Pass\",np.hstack((img, lowPass)))\n",
    "cv2.waitKey(0)\n",
    "cv2.destroyAllWindows()"
   ]
  },
  {
   "cell_type": "code",
   "execution_count": 28,
   "id": "0058f99d",
   "metadata": {},
   "outputs": [
    {
     "data": {
      "text/plain": [
       "(630, 630)"
      ]
     },
     "execution_count": 28,
     "metadata": {},
     "output_type": "execute_result"
    }
   ],
   "source": [
    "lowPass.shape"
   ]
  },
  {
   "cell_type": "code",
   "execution_count": 23,
   "id": "c37287e8",
   "metadata": {},
   "outputs": [],
   "source": [
    "import numpy as np\n",
    "from PIL import Image as im\n",
    "\n",
    "lowPass = im.fromarray(lowPass)\n",
    "lowPass = lowPass.convert(\"L\")\n",
    "lowPass.save('lowPass.png')"
   ]
  },
  {
   "cell_type": "code",
   "execution_count": 46,
   "id": "90cc42fe",
   "metadata": {},
   "outputs": [
    {
     "name": "stdout",
     "output_type": "stream",
     "text": [
      "<class 'numpy.ndarray'> <class 'numpy.ndarray'> <class 'numpy.ndarray'>\n",
      "(630, 630) (630, 630) (630, 630)\n"
     ]
    }
   ],
   "source": [
    "img = cv2.imread(\"1 no.jpeg\",0)\n",
    "imgNP = np.asarray(img)\n",
    "\n",
    "imgH = Image.open('highPass.png')\n",
    "imgHpH = np.asarray(imgH)\n",
    "\n",
    "imgL = Image.open('lowPass.png')\n",
    "imgLpH = np.asarray(imgL)\n",
    "\n",
    "print(type(imgNP), type(imgHpH), type(imgLpH))\n",
    "print(imgNP.shape, imgHpH.shape, imgLpH.shape)"
   ]
  },
  {
   "cell_type": "code",
   "execution_count": 48,
   "id": "aa2adbd4",
   "metadata": {},
   "outputs": [],
   "source": [
    "cv2.imshow(\"imgHpH  imgLpH\",np.hstack((imgHpH,imgLpH)))\n",
    "cv2.waitKey(0)\n",
    "cv2.destroyAllWindows()"
   ]
  },
  {
   "cell_type": "code",
   "execution_count": 49,
   "id": "a9dfc57f",
   "metadata": {},
   "outputs": [
    {
     "name": "stdout",
     "output_type": "stream",
     "text": [
      "PSNR value is 29.305280166529638 dB\n"
     ]
    }
   ],
   "source": [
    "from math import log10, sqrt\n",
    "import cv2\n",
    "import numpy as np\n",
    "def PSNR(original, compressed):\n",
    "    mse = np.mean((original - compressed) ** 2)\n",
    "    if(mse == 0): # MSE is zero means no noise is present in the signal .\n",
    "        # Therefore PSNR have no importance.\n",
    "        return 100\n",
    "    max_pixel = 255.0\n",
    "    psnr = 20 * log10(max_pixel / sqrt(mse))\n",
    "    return psnr\n",
    "\n",
    "def main():\n",
    "#     original = cv2.imread(\"1 no.jpeg\")\n",
    "#     compressed = cv2.imread(\"output.png\", 1)\n",
    "    value = PSNR(imgNP, imgHpH)\n",
    "    \n",
    "    print(f\"PSNR value is {value} dB\")\n",
    "\n",
    "if __name__ == \"__main__\":\n",
    "    main()"
   ]
  },
  {
   "cell_type": "code",
   "execution_count": 32,
   "id": "b712e512",
   "metadata": {},
   "outputs": [
    {
     "name": "stdout",
     "output_type": "stream",
     "text": [
      "PSNR value is 28.952075907485913 dB\n"
     ]
    }
   ],
   "source": [
    "from math import log10, sqrt\n",
    "import cv2\n",
    "import numpy as np\n",
    "def PSNR(original, compressed):\n",
    "    mse = np.mean((original - compressed) ** 2)\n",
    "    if(mse == 0): # MSE is zero means no noise is present in the signal .\n",
    "        # Therefore PSNR have no importance.\n",
    "        return 100\n",
    "    max_pixel = 255.0\n",
    "    psnr = 20 * log10(max_pixel / sqrt(mse))\n",
    "    return psnr\n",
    "\n",
    "def main():\n",
    "#     original = cv2.imread(\"1 no.jpeg\")\n",
    "#     compressed = cv2.imread(\"output.png\", 1)\n",
    "    value = PSNR(imgNP, imgLpH)\n",
    "    \n",
    "    print(f\"PSNR value is {value} dB\")\n",
    "\n",
    "if __name__ == \"__main__\":\n",
    "    main()"
   ]
  },
  {
   "cell_type": "code",
   "execution_count": 33,
   "id": "67f3c605",
   "metadata": {},
   "outputs": [],
   "source": [
    "#Equalizing the Image Histogram (to improve contrast)\n",
    "from PIL import Image\n",
    "import numpy as np\n",
    "import scipy.misc , math\n",
    "import scipy as sc\n",
    "img = Image.open('highPass.png')\n",
    "img1 = np.asarray(img)\n",
    "flat = img1.flatten()\n",
    "hist, bins = np.histogram(img1,256,[0,255])\n",
    "cdf = hist.cumsum()\n",
    "cdf_m = np.ma.masked_equal(cdf,0)\n",
    "num_cdf_m = (cdf_m - cdf_m.min())*255\n",
    "den_cdf_m = (cdf_m.max() - cdf_m.min())\n",
    "cdf_m = num_cdf_m / den_cdf_m\n",
    "cdf = np.ma.filled(cdf_m,0).astype('uint8')\n",
    "img2 = cdf[flat]\n",
    "img3_highPass = np.reshape(img2,img1.shape)\n",
    "eq_img_highPass = Image.fromarray(img3_highPass)"
   ]
  },
  {
   "cell_type": "code",
   "execution_count": 34,
   "id": "d3ade4eb",
   "metadata": {},
   "outputs": [],
   "source": [
    "#Equalizing the Image Histogram (to improve contrast)\n",
    "from PIL import Image\n",
    "import numpy as np\n",
    "import scipy.misc , math\n",
    "import scipy as sc\n",
    "img = Image.open('lowPass.png')\n",
    "img1 = np.asarray(img)\n",
    "flat = img1.flatten()\n",
    "hist, bins = np.histogram(img1,256,[0,255])\n",
    "cdf = hist.cumsum()\n",
    "cdf_m = np.ma.masked_equal(cdf,0)\n",
    "num_cdf_m = (cdf_m - cdf_m.min())*255\n",
    "den_cdf_m = (cdf_m.max() - cdf_m.min())\n",
    "cdf_m = num_cdf_m / den_cdf_m\n",
    "cdf = np.ma.filled(cdf_m,0).astype('uint8')\n",
    "img2 = cdf[flat]\n",
    "img3_lowPass = np.reshape(img2,img1.shape)\n",
    "eq_img_lowPass = Image.fromarray(img3_lowPass)"
   ]
  },
  {
   "cell_type": "code",
   "execution_count": 39,
   "id": "00a38969",
   "metadata": {},
   "outputs": [
    {
     "name": "stdout",
     "output_type": "stream",
     "text": [
      "<class 'numpy.ndarray'> <class 'numpy.ndarray'>\n",
      "(630, 630) (630, 630)\n"
     ]
    }
   ],
   "source": [
    "img = cv2.imread(\"1 no.jpeg\",0)\n",
    "imgNP = np.asarray(img)\n",
    "print(type(img3_highPass), type(img3_lowPass))\n",
    "print(img3_highPass.shape, img3_lowPass.shape)"
   ]
  },
  {
   "cell_type": "code",
   "execution_count": 40,
   "id": "436ffc7b",
   "metadata": {},
   "outputs": [],
   "source": [
    "cv2.imshow(\"img3_highPass  img3_lowPass\",np.hstack((img3_highPass,img3_lowPass)))\n",
    "cv2.waitKey(0)\n",
    "cv2.destroyAllWindows()"
   ]
  },
  {
   "cell_type": "code",
   "execution_count": 41,
   "id": "08da5a36",
   "metadata": {},
   "outputs": [
    {
     "name": "stdout",
     "output_type": "stream",
     "text": [
      "PSNR value is 29.034337717551875 dB\n"
     ]
    }
   ],
   "source": [
    "from math import log10, sqrt\n",
    "import cv2\n",
    "import numpy as np\n",
    "def PSNR(original, compressed):\n",
    "    mse = np.mean((original - compressed) ** 2)\n",
    "    if(mse == 0): # MSE is zero means no noise is present in the signal .\n",
    "        # Therefore PSNR have no importance.\n",
    "        return 100\n",
    "    max_pixel = 255.0\n",
    "    psnr = 20 * log10(max_pixel / sqrt(mse))\n",
    "    return psnr\n",
    "\n",
    "def main():\n",
    "#     original = cv2.imread(\"1 no.jpeg\")\n",
    "#     compressed = cv2.imread(\"output.png\", 1)\n",
    "    value = PSNR(imgNP, img3_highPass)\n",
    "    \n",
    "    print(f\"PSNR value is {value} dB\")\n",
    "\n",
    "if __name__ == \"__main__\":\n",
    "    main()"
   ]
  },
  {
   "cell_type": "code",
   "execution_count": 42,
   "id": "7b240015",
   "metadata": {},
   "outputs": [
    {
     "name": "stdout",
     "output_type": "stream",
     "text": [
      "PSNR value is 29.250385222156066 dB\n"
     ]
    }
   ],
   "source": [
    "from math import log10, sqrt\n",
    "import cv2\n",
    "import numpy as np\n",
    "def PSNR(original, compressed):\n",
    "    mse = np.mean((original - compressed) ** 2)\n",
    "    if(mse == 0): # MSE is zero means no noise is present in the signal .\n",
    "        # Therefore PSNR have no importance.\n",
    "        return 100\n",
    "    max_pixel = 255.0\n",
    "    psnr = 20 * log10(max_pixel / sqrt(mse))\n",
    "    return psnr\n",
    "\n",
    "def main():\n",
    "#     original = cv2.imread(\"1 no.jpeg\")\n",
    "#     compressed = cv2.imread(\"output.png\", 1)\n",
    "    value = PSNR(imgNP, img3_lowPass)\n",
    "    \n",
    "    print(f\"PSNR value is {value} dB\")\n",
    "\n",
    "if __name__ == \"__main__\":\n",
    "    main()"
   ]
  },
  {
   "cell_type": "code",
   "execution_count": 43,
   "id": "389a74a6",
   "metadata": {},
   "outputs": [
    {
     "name": "stdout",
     "output_type": "stream",
     "text": [
      "PSNR value is 28.960703759713844 dB\n"
     ]
    }
   ],
   "source": [
    "from math import log10, sqrt\n",
    "import cv2\n",
    "import numpy as np\n",
    "def PSNR(original, compressed):\n",
    "    mse = np.mean((original - compressed) ** 2)\n",
    "    if(mse == 0): # MSE is zero means no noise is present in the signal .\n",
    "        # Therefore PSNR have no importance.\n",
    "        return 100\n",
    "    max_pixel = 255.0\n",
    "    psnr = 20 * log10(max_pixel / sqrt(mse))\n",
    "    return psnr\n",
    "\n",
    "def main():\n",
    "#     original = cv2.imread(\"1 no.jpeg\")\n",
    "#     compressed = cv2.imread(\"output.png\", 1)\n",
    "    value = PSNR(imgNpH, img3_highPass)\n",
    "    \n",
    "    print(f\"PSNR value is {value} dB\")\n",
    "\n",
    "if __name__ == \"__main__\":\n",
    "    main()"
   ]
  },
  {
   "cell_type": "code",
   "execution_count": 44,
   "id": "8070f5a6",
   "metadata": {},
   "outputs": [
    {
     "name": "stdout",
     "output_type": "stream",
     "text": [
      "PSNR value is 29.109262800691283 dB\n"
     ]
    }
   ],
   "source": [
    "from math import log10, sqrt\n",
    "import cv2\n",
    "import numpy as np\n",
    "def PSNR(original, compressed):\n",
    "    mse = np.mean((original - compressed) ** 2)\n",
    "    if(mse == 0): # MSE is zero means no noise is present in the signal .\n",
    "        # Therefore PSNR have no importance.\n",
    "        return 100\n",
    "    max_pixel = 255.0\n",
    "    psnr = 20 * log10(max_pixel / sqrt(mse))\n",
    "    return psnr\n",
    "\n",
    "def main():\n",
    "#     original = cv2.imread(\"1 no.jpeg\")\n",
    "#     compressed = cv2.imread(\"output.png\", 1)\n",
    "    value = PSNR(imgLpH, img3_lowPass)\n",
    "    \n",
    "    print(f\"PSNR value is {value} dB\")\n",
    "\n",
    "if __name__ == \"__main__\":\n",
    "    main()"
   ]
  },
  {
   "cell_type": "code",
   "execution_count": 83,
   "id": "70ce612c",
   "metadata": {},
   "outputs": [],
   "source": [
    "#Equalizing the Image Histogram (to improve contrast)\n",
    "from PIL import Image\n",
    "import numpy as np\n",
    "import scipy.misc , math\n",
    "import scipy as sc\n",
    "img = Image.open('lowPass.png')\n",
    "img1 = np.asarray(img)\n",
    "flat = img1.flatten()\n",
    "hist, bins = np.histogram(img1,256,[0,255])\n",
    "cdf = hist.cumsum()\n",
    "cdf_m = np.ma.masked_equal(cdf,0)\n",
    "num_cdf_m = (cdf_m - cdf_m.min())*255\n",
    "den_cdf_m = (cdf_m.max() - cdf_m.min())\n",
    "cdf_m = num_cdf_m / den_cdf_m\n",
    "cdf = np.ma.filled(cdf_m,0).astype('uint8')\n",
    "img2 = cdf[flat]\n",
    "img3_lowPass = np.reshape(img2,img1.shape)\n",
    "eq_img_lowPass = Image.fromarray(img3_lowPass)"
   ]
  },
  {
   "cell_type": "code",
   "execution_count": 84,
   "id": "1db78d49",
   "metadata": {},
   "outputs": [
    {
     "name": "stdout",
     "output_type": "stream",
     "text": [
      "PSNR value is 28.357523278857165 dB\n"
     ]
    }
   ],
   "source": [
    "from math import log10, sqrt\n",
    "import cv2\n",
    "import numpy as np\n",
    "def PSNR(original, compressed):\n",
    "    mse = np.mean((original - compressed) ** 2)\n",
    "    if(mse == 0): # MSE is zero means no noise is present in the signal .\n",
    "        # Therefore PSNR have no importance.\n",
    "        return 100\n",
    "    max_pixel = 255.0\n",
    "    psnr = 20 * log10(max_pixel / sqrt(mse))\n",
    "    return psnr\n",
    "\n",
    "def main():\n",
    "#     original = cv2.imread(\"1 no.jpeg\")\n",
    "#     compressed = cv2.imread(\"output.png\", 1)\n",
    "    value = PSNR(imgLpH, img3_lowPass)\n",
    "    \n",
    "    print(f\"PSNR value is {value} dB\")\n",
    "\n",
    "if __name__ == \"__main__\":\n",
    "    main()"
   ]
  },
  {
   "cell_type": "code",
   "execution_count": 79,
   "id": "feef61a0",
   "metadata": {},
   "outputs": [
    {
     "name": "stdout",
     "output_type": "stream",
     "text": [
      "PSNR value is 28.789033464612707 dB\n"
     ]
    }
   ],
   "source": [
    "from math import log10, sqrt\n",
    "import cv2\n",
    "import numpy as np\n",
    "def PSNR(original, compressed):\n",
    "    mse = np.mean((original - compressed) ** 2)\n",
    "    if(mse == 0): # MSE is zero means no noise is present in the signal .\n",
    "        # Therefore PSNR have no importance.\n",
    "        return 100\n",
    "    max_pixel = 255.0\n",
    "    psnr = 20 * log10(max_pixel / sqrt(mse))\n",
    "    return psnr\n",
    "\n",
    "def main():\n",
    "#     original = cv2.imread(\"1 no.jpeg\")\n",
    "#     compressed = cv2.imread(\"output.png\", 1)\n",
    "    value = PSNR(imgNP, imgNpH)\n",
    "    \n",
    "    print(f\"PSNR value is {value} dB\")\n",
    "\n",
    "if __name__ == \"__main__\":\n",
    "    main()"
   ]
  },
  {
   "cell_type": "code",
   "execution_count": null,
   "id": "2f55b0a2",
   "metadata": {},
   "outputs": [],
   "source": []
  },
  {
   "cell_type": "code",
   "execution_count": null,
   "id": "8d97eb97",
   "metadata": {},
   "outputs": [],
   "source": []
  },
  {
   "cell_type": "code",
   "execution_count": null,
   "id": "adfc37f7",
   "metadata": {},
   "outputs": [],
   "source": []
  },
  {
   "cell_type": "code",
   "execution_count": 1,
   "id": "7af9edfa",
   "metadata": {},
   "outputs": [],
   "source": [
    "#Equalizing the Image Histogram (to improve contrast)\n",
    "from PIL import Image\n",
    "import numpy as np\n",
    "import scipy.misc , math\n",
    "import scipy as sc\n",
    "img = Image.open('1 no.jpeg')\n",
    "img1 = np.asarray(img)\n",
    "flat = img1.flatten()\n",
    "hist, bins = np.histogram(img1,256,[0,255])\n",
    "cdf = hist.cumsum()\n",
    "cdf_m = np.ma.masked_equal(cdf,0)\n",
    "num_cdf_m = (cdf_m - cdf_m.min())*255\n",
    "den_cdf_m = (cdf_m.max() - cdf_m.min())\n",
    "cdf_m = num_cdf_m / den_cdf_m\n",
    "cdf = np.ma.filled(cdf_m,0).astype('uint8')\n",
    "img2 = cdf[flat]\n",
    "img3 = np.reshape(img2,img1.shape)\n",
    "eq_img = Image.fromarray(img3)"
   ]
  },
  {
   "cell_type": "code",
   "execution_count": 2,
   "id": "e452def5",
   "metadata": {},
   "outputs": [
    {
     "data": {
      "text/plain": [
       "(630, 630)"
      ]
     },
     "execution_count": 2,
     "metadata": {},
     "output_type": "execute_result"
    }
   ],
   "source": [
    "img1.shape"
   ]
  },
  {
   "cell_type": "code",
   "execution_count": 22,
   "id": "94eace61",
   "metadata": {},
   "outputs": [],
   "source": [
    "import cv2\n",
    "img = Image.open('1 no.jpeg')\n",
    "img1 = np.asarray(img)\n",
    "cv2.imshow('',np.hstack((img1, img3)))\n",
    "cv2.waitKey(0)\n",
    "cv2.destroyAllWindows()"
   ]
  },
  {
   "cell_type": "code",
   "execution_count": 23,
   "id": "44cf2f60",
   "metadata": {},
   "outputs": [],
   "source": [
    "gaussBlur = cv2.GaussianBlur(img3,(5,5),cv2.BORDER_DEFAULT)\n",
    "cv2.imshow(\"Gaussian Smoothing\",np.hstack((img3,gaussBlur)))\n",
    "cv2.waitKey(0)\n",
    "cv2.destroyAllWindows()"
   ]
  },
  {
   "cell_type": "code",
   "execution_count": 12,
   "id": "229be76e",
   "metadata": {},
   "outputs": [],
   "source": [
    "highPass = img3 - gaussBlur\n",
    "# or We can use this statement to filter the high pass image\n",
    "#highPass = highPass + 127*np.ones(img.shape, np.uint8)\n",
    "cv2.imshow(\"High Pass\",np.hstack((img3, highPass)))\n",
    "cv2.waitKey(0)\n",
    "cv2.destroyAllWindows()"
   ]
  },
  {
   "cell_type": "code",
   "execution_count": 13,
   "id": "60d8167b",
   "metadata": {},
   "outputs": [],
   "source": [
    "import numpy as np\n",
    "from PIL import Image as im\n",
    "\n",
    "highPass = im.fromarray(highPass)\n",
    "highPass = highPass.convert(\"L\")\n",
    "highPass.save('highPass.png')"
   ]
  },
  {
   "cell_type": "code",
   "execution_count": 24,
   "id": "aa16dde7",
   "metadata": {},
   "outputs": [],
   "source": [
    "kernel = np.ones((10,10),np.float32)/25\n",
    "lowPass = cv2.filter2D(img3,-1, kernel)\n",
    "lowPass = img3 - lowPass\n",
    "cv2.imshow(\"Low Pass\",np.hstack((img3, lowPass)))\n",
    "cv2.waitKey(0)\n",
    "cv2.destroyAllWindows()"
   ]
  },
  {
   "cell_type": "code",
   "execution_count": 17,
   "id": "d3418ff9",
   "metadata": {},
   "outputs": [],
   "source": [
    "import numpy as np\n",
    "from PIL import Image as im\n",
    "\n",
    "lowPass = im.fromarray(lowPass)\n",
    "lowPass = lowPass.convert(\"L\")\n",
    "lowPass.save('lowPass.png')"
   ]
  },
  {
   "cell_type": "code",
   "execution_count": 20,
   "id": "62fefc9c",
   "metadata": {},
   "outputs": [
    {
     "name": "stdout",
     "output_type": "stream",
     "text": [
      "<class 'numpy.ndarray'> <class 'numpy.ndarray'> <class 'numpy.ndarray'> <class 'numpy.ndarray'>\n",
      "(630, 630) (630, 630) (630, 630) (630, 630)\n"
     ]
    }
   ],
   "source": [
    "img = cv2.imread(\"1 no.jpeg\",0)\n",
    "imgNP = np.asarray(img)\n",
    "\n",
    "imgH = Image.open('highPass.png')\n",
    "imgNpH = np.asarray(imgH)\n",
    "\n",
    "imgL = Image.open('lowPass.png')\n",
    "imgLpH = np.asarray(imgL)\n",
    "\n",
    "print(type(imgNP), type(imgNpH), type(imgLpH),  type(gaussBlur))\n",
    "print(imgNP.shape, imgNpH.shape, imgLpH.shape,  gaussBlur.shape)"
   ]
  },
  {
   "cell_type": "code",
   "execution_count": null,
   "id": "947bafcd",
   "metadata": {},
   "outputs": [],
   "source": []
  },
  {
   "cell_type": "code",
   "execution_count": 26,
   "id": "6126fc10",
   "metadata": {},
   "outputs": [],
   "source": [
    "img4 = cv2.imread(\"1 no.jpeg\",0)\n",
    "gaussBlur = cv2.GaussianBlur(img4,(5,5),cv2.BORDER_DEFAULT)\n",
    "cv2.imshow(\"Gaussian Smoothing\",np.hstack((img4,gaussBlur)))\n",
    "cv2.waitKey(0)\n",
    "cv2.destroyAllWindows()"
   ]
  },
  {
   "cell_type": "code",
   "execution_count": 27,
   "id": "5843500c",
   "metadata": {},
   "outputs": [],
   "source": [
    "highPass2 = img4 - gaussBlur\n",
    "# or We can use this statement to filter the high pass image\n",
    "#highPass = highPass + 127*np.ones(img.shape, np.uint8)\n",
    "cv2.imshow(\"High Pass\",np.hstack((img4, highPass2)))\n",
    "cv2.waitKey(0)\n",
    "cv2.destroyAllWindows()"
   ]
  },
  {
   "cell_type": "code",
   "execution_count": 30,
   "id": "61ac4cf7",
   "metadata": {},
   "outputs": [],
   "source": [
    "img = cv2.imread(\"1 no.jpeg\",0)\n",
    "imgNP = np.asarray(img)\n",
    "\n",
    "imgH = Image.open('highPass.png')\n",
    "imgNpH = np.asarray(imgH)"
   ]
  },
  {
   "cell_type": "code",
   "execution_count": 31,
   "id": "8ff90d25",
   "metadata": {},
   "outputs": [
    {
     "name": "stdout",
     "output_type": "stream",
     "text": [
      "PSNR value is 29.305280166529638 dB\n"
     ]
    }
   ],
   "source": [
    "from math import log10, sqrt\n",
    "import cv2\n",
    "import numpy as np\n",
    "def PSNR(original, compressed):\n",
    "    mse = np.mean((original - compressed) ** 2)\n",
    "    if(mse == 0): # MSE is zero means no noise is present in the signal .\n",
    "        # Therefore PSNR have no importance.\n",
    "        return 100\n",
    "    max_pixel = 255.0\n",
    "    psnr = 20 * log10(max_pixel / sqrt(mse))\n",
    "    return psnr\n",
    "\n",
    "def main():\n",
    "#     original = cv2.imread(\"1 no.jpeg\")\n",
    "#     compressed = cv2.imread(\"output.png\", 1)\n",
    "    value = PSNR(img, imgNpH)\n",
    "    \n",
    "    print(f\"PSNR value is {value} dB\")\n",
    "\n",
    "if __name__ == \"__main__\":\n",
    "    main()"
   ]
  },
  {
   "cell_type": "code",
   "execution_count": 32,
   "id": "7c4d0034",
   "metadata": {},
   "outputs": [
    {
     "name": "stdout",
     "output_type": "stream",
     "text": [
      "PSNR value is 30.411476447825507 dB\n"
     ]
    }
   ],
   "source": [
    "from math import log10, sqrt\n",
    "import cv2\n",
    "import numpy as np\n",
    "def PSNR(original, compressed):\n",
    "    mse = np.mean((original - compressed) ** 2)\n",
    "    if(mse == 0): # MSE is zero means no noise is present in the signal .\n",
    "        # Therefore PSNR have no importance.\n",
    "        return 100\n",
    "    max_pixel = 255.0\n",
    "    psnr = 20 * log10(max_pixel / sqrt(mse))\n",
    "    return psnr\n",
    "\n",
    "def main():\n",
    "#     original = cv2.imread(\"1 no.jpeg\")\n",
    "#     compressed = cv2.imread(\"output.png\", 1)\n",
    "    value = PSNR(img, highPass2)\n",
    "    \n",
    "    print(f\"PSNR value is {value} dB\")\n",
    "\n",
    "if __name__ == \"__main__\":\n",
    "    main()"
   ]
  },
  {
   "cell_type": "code",
   "execution_count": 29,
   "id": "32fc1c2e",
   "metadata": {},
   "outputs": [
    {
     "name": "stdout",
     "output_type": "stream",
     "text": [
      "PSNR value is 32.3385427965118 dB\n"
     ]
    }
   ],
   "source": [
    "from math import log10, sqrt\n",
    "import cv2\n",
    "import numpy as np\n",
    "def PSNR(original, compressed):\n",
    "    mse = np.mean((original - compressed) ** 2)\n",
    "    if(mse == 0): # MSE is zero means no noise is present in the signal .\n",
    "        # Therefore PSNR have no importance.\n",
    "        return 100\n",
    "    max_pixel = 255.0\n",
    "    psnr = 20 * log10(max_pixel / sqrt(mse))\n",
    "    return psnr\n",
    "\n",
    "def main():\n",
    "#     original = cv2.imread(\"1 no.jpeg\")\n",
    "#     compressed = cv2.imread(\"output.png\", 1)\n",
    "    value = PSNR(highPass2, imgNpH)\n",
    "    \n",
    "    print(f\"PSNR value is {value} dB\")\n",
    "\n",
    "if __name__ == \"__main__\":\n",
    "    main()"
   ]
  },
  {
   "cell_type": "code",
   "execution_count": null,
   "id": "05c7f4f3",
   "metadata": {},
   "outputs": [],
   "source": []
  },
  {
   "cell_type": "code",
   "execution_count": 25,
   "id": "2f5ddf1b",
   "metadata": {},
   "outputs": [
    {
     "name": "stdout",
     "output_type": "stream",
     "text": [
      "PSNR value is 28.88579031705322 dB\n"
     ]
    }
   ],
   "source": [
    "from math import log10, sqrt\n",
    "import cv2\n",
    "import numpy as np\n",
    "def PSNR(original, compressed):\n",
    "    mse = np.mean((original - compressed) ** 2)\n",
    "    if(mse == 0): # MSE is zero means no noise is present in the signal .\n",
    "        # Therefore PSNR have no importance.\n",
    "        return 100\n",
    "    max_pixel = 255.0\n",
    "    psnr = 20 * log10(max_pixel / sqrt(mse))\n",
    "    return psnr\n",
    "\n",
    "def main():\n",
    "#     original = cv2.imread(\"1 no.jpeg\")\n",
    "#     compressed = cv2.imread(\"output.png\", 1)\n",
    "    value = PSNR(img3, imgNpH)\n",
    "    \n",
    "    print(f\"PSNR value is {value} dB\")\n",
    "\n",
    "if __name__ == \"__main__\":\n",
    "    main()"
   ]
  },
  {
   "cell_type": "code",
   "execution_count": null,
   "id": "d0bbed49",
   "metadata": {},
   "outputs": [],
   "source": []
  },
  {
   "cell_type": "code",
   "execution_count": null,
   "id": "aed6b158",
   "metadata": {},
   "outputs": [],
   "source": []
  },
  {
   "cell_type": "code",
   "execution_count": null,
   "id": "71e24ddf",
   "metadata": {},
   "outputs": [],
   "source": []
  },
  {
   "cell_type": "code",
   "execution_count": null,
   "id": "d0579d42",
   "metadata": {},
   "outputs": [],
   "source": []
  },
  {
   "cell_type": "code",
   "execution_count": null,
   "id": "fcb0e549",
   "metadata": {},
   "outputs": [],
   "source": []
  },
  {
   "cell_type": "code",
   "execution_count": null,
   "id": "e9b17078",
   "metadata": {},
   "outputs": [],
   "source": []
  },
  {
   "cell_type": "code",
   "execution_count": 45,
   "id": "f535d7f9",
   "metadata": {},
   "outputs": [],
   "source": [
    "#Equalizing the Image Histogram (to improve contrast)\n",
    "from PIL import Image\n",
    "import numpy as np\n",
    "import scipy.misc , math\n",
    "import scipy as sc\n",
    "img = Image.open('highPass.png')\n",
    "img1 = np.asarray(img)\n",
    "flat = img1.flatten()\n",
    "hist, bins = np.histogram(img1,256,[0,255])\n",
    "cdf = hist.cumsum()\n",
    "cdf_m = np.ma.masked_equal(cdf,0)\n",
    "num_cdf_m = (cdf_m - cdf_m.min())*255\n",
    "den_cdf_m = (cdf_m.max() - cdf_m.min())\n",
    "cdf_m = num_cdf_m / den_cdf_m\n",
    "cdf = np.ma.filled(cdf_m,0).astype('uint8')\n",
    "img2 = cdf[flat]\n",
    "img3_highPass = np.reshape(img2,img1.shape)\n",
    "eq_img_highPass = Image.fromarray(img3_highPass)"
   ]
  },
  {
   "cell_type": "code",
   "execution_count": 46,
   "id": "106b00ec",
   "metadata": {},
   "outputs": [
    {
     "name": "stdout",
     "output_type": "stream",
     "text": [
      "<class 'numpy.ndarray'> <class 'numpy.ndarray'> <class 'numpy.ndarray'>\n",
      "(630, 630) (630, 630) (630, 630)\n"
     ]
    }
   ],
   "source": [
    "img = cv2.imread(\"1 no.jpeg\",0)\n",
    "imgNP = np.asarray(img)\n",
    "\n",
    "imgH = Image.open('highPass.png')\n",
    "imgNpH = np.asarray(imgH)\n",
    "\n",
    "print(type(imgNP), type(imgNpH),type(img3_highPass))\n",
    "print(imgNP.shape, imgNpH.shape, imgY.shape)"
   ]
  },
  {
   "cell_type": "code",
   "execution_count": 49,
   "id": "1d6ce114",
   "metadata": {},
   "outputs": [
    {
     "name": "stdout",
     "output_type": "stream",
     "text": [
      "PSNR value is 30.411476447825507 dB\n"
     ]
    }
   ],
   "source": [
    "from math import log10, sqrt\n",
    "import cv2\n",
    "import numpy as np\n",
    "def PSNR(original, compressed):\n",
    "    mse = np.mean((original - compressed) ** 2)\n",
    "    if(mse == 0): # MSE is zero means no noise is present in the signal .\n",
    "        # Therefore PSNR have no importance.\n",
    "        return 100\n",
    "    max_pixel = 255.0\n",
    "    psnr = 20 * log10(max_pixel / sqrt(mse))\n",
    "    return psnr\n",
    "\n",
    "def main():\n",
    "#     original = cv2.imread(\"1 no.jpeg\")\n",
    "#     compressed = cv2.imread(\"output.png\", 1)\n",
    "    value = PSNR(imgNP, imgNpH)\n",
    "    \n",
    "    print(f\"PSNR value is {value} dB\")\n",
    "\n",
    "if __name__ == \"__main__\":\n",
    "    main()"
   ]
  },
  {
   "cell_type": "code",
   "execution_count": 151,
   "id": "812b5ef5",
   "metadata": {},
   "outputs": [
    {
     "name": "stdout",
     "output_type": "stream",
     "text": [
      "<class 'numpy.ndarray'> <class 'numpy.ndarray'>\n",
      "(630, 630) (630, 630)\n",
      "<class 'numpy.ndarray'> <class 'numpy.ndarray'>\n",
      "(630, 630) (630, 630)\n"
     ]
    }
   ],
   "source": [
    "print(type(img3_sobelX), type(img3_sobelY))\n",
    "print(lowPass.shape, highPass.shape)\n",
    "print(type(img3_lowPass), type(img3_highPass))\n",
    "print(img3_lowPass.shape, img3_highPass.shape)"
   ]
  },
  {
   "cell_type": "code",
   "execution_count": 152,
   "id": "4f241927",
   "metadata": {},
   "outputs": [
    {
     "name": "stdout",
     "output_type": "stream",
     "text": [
      "PSNR value is 28.357523278857165 dB\n"
     ]
    }
   ],
   "source": [
    "from math import log10, sqrt\n",
    "import cv2\n",
    "import numpy as np\n",
    "def PSNR(original, compressed):\n",
    "    mse = np.mean((original - compressed) ** 2)\n",
    "    if(mse == 0): # MSE is zero means no noise is present in the signal .\n",
    "        # Therefore PSNR have no importance.\n",
    "        return 100\n",
    "    max_pixel = 255.0\n",
    "    psnr = 20 * log10(max_pixel / sqrt(mse))\n",
    "    return psnr\n",
    "\n",
    "def main():\n",
    "#     original = cv2.imread(\"1 no.jpeg\")\n",
    "#     compressed = cv2.imread(\"output.png\", 1)\n",
    "    value = PSNR(lowPass, img3_lowPass)\n",
    "    \n",
    "    print(f\"PSNR value is {value} dB\")\n",
    "\n",
    "if __name__ == \"__main__\":\n",
    "    main()"
   ]
  },
  {
   "cell_type": "code",
   "execution_count": 154,
   "id": "b5e07ba2",
   "metadata": {},
   "outputs": [
    {
     "name": "stdout",
     "output_type": "stream",
     "text": [
      "PSNR value is 31.50404888671538 dB\n"
     ]
    }
   ],
   "source": [
    "from math import log10, sqrt\n",
    "import cv2\n",
    "import numpy as np\n",
    "def PSNR(original, compressed):\n",
    "    mse = np.mean((original - compressed) ** 2)\n",
    "    if(mse == 0): # MSE is zero means no noise is present in the signal .\n",
    "        # Therefore PSNR have no importance.\n",
    "        return 100\n",
    "    max_pixel = 255.0\n",
    "    psnr = 20 * log10(max_pixel / sqrt(mse))\n",
    "    return psnr\n",
    "\n",
    "def main():\n",
    "#     original = cv2.imread(\"1 no.jpeg\")\n",
    "#     compressed = cv2.imread(\"output.png\", 1)\n",
    "    value = PSNR(highPass, img3_highPass)\n",
    "    print(f\"PSNR value is {value} dB\")\n",
    "\n",
    "if __name__ == \"__main__\":\n",
    "    main()"
   ]
  },
  {
   "cell_type": "code",
   "execution_count": 153,
   "id": "c365ff4a",
   "metadata": {},
   "outputs": [
    {
     "name": "stdout",
     "output_type": "stream",
     "text": [
      "PSNR value is 31.50404888671538 dB\n"
     ]
    }
   ],
   "source": [
    "from math import log10, sqrt\n",
    "import cv2\n",
    "import numpy as np\n",
    "def PSNR(original, compressed):\n",
    "    mse = np.mean((original - compressed) ** 2)\n",
    "    if(mse == 0): # MSE is zero means no noise is present in the signal .\n",
    "        # Therefore PSNR have no importance.\n",
    "        return 100\n",
    "    max_pixel = 255.0\n",
    "    psnr = 20 * log10(max_pixel / sqrt(mse))\n",
    "    return psnr\n",
    "\n",
    "def main():\n",
    "#     original = cv2.imread(\"1 no.jpeg\")\n",
    "#     compressed = cv2.imread(\"output.png\", 1)\n",
    "    value = PSNR(highPass, img3_highPass)\n",
    "    \n",
    "    print(f\"PSNR value is {value} dB\")\n",
    "\n",
    "if __name__ == \"__main__\":\n",
    "    main()"
   ]
  },
  {
   "cell_type": "code",
   "execution_count": 44,
   "id": "f1585b9c",
   "metadata": {},
   "outputs": [
    {
     "name": "stdout",
     "output_type": "stream",
     "text": [
      "PSNR value is 32.12815031195339 dB\n"
     ]
    }
   ],
   "source": [
    "from math import log10, sqrt\n",
    "import cv2\n",
    "import numpy as np\n",
    "def PSNR(original, compressed):\n",
    "    mse = np.mean((original - compressed) ** 2)\n",
    "    if(mse == 0): # MSE is zero means no noise is present in the signal .\n",
    "        # Therefore PSNR have no importance.\n",
    "        return 100\n",
    "    max_pixel = 255.0\n",
    "    psnr = 20 * log10(max_pixel / sqrt(mse))\n",
    "    return psnr\n",
    "\n",
    "def main():\n",
    "#     original = cv2.imread(\"1 no.jpeg\")\n",
    "#     compressed = cv2.imread(\"output.png\", 1)\n",
    "    value = PSNR(img3_sobelY, highPass)\n",
    "    \n",
    "    print(f\"PSNR value is {value} dB\")\n",
    "\n",
    "if __name__ == \"__main__\":\n",
    "    main()"
   ]
  },
  {
   "cell_type": "code",
   "execution_count": 32,
   "id": "af440957",
   "metadata": {},
   "outputs": [
    {
     "name": "stdout",
     "output_type": "stream",
     "text": [
      "PSNR value is -7.137393228241306 dB\n"
     ]
    }
   ],
   "source": [
    "from math import log10, sqrt\n",
    "import cv2\n",
    "import numpy as np\n",
    "def PSNR(original, compressed):\n",
    "    mse = np.mean((original - compressed) ** 2)\n",
    "    if(mse == 0): # MSE is zero means no noise is present in the signal .\n",
    "        # Therefore PSNR have no importance.\n",
    "        return 100\n",
    "    max_pixel = 255.0\n",
    "    psnr = 20 * log10(max_pixel / sqrt(mse))\n",
    "    return psnr\n",
    "\n",
    "def main():\n",
    "#     original = cv2.imread(\"1 no.jpeg\")\n",
    "#     compressed = cv2.imread(\"output.png\", 1)\n",
    "    value = PSNR(sobely, lowPass)\n",
    "    print(f\"PSNR value is {value} dB\")\n",
    "\n",
    "if __name__ == \"__main__\":\n",
    "    main()"
   ]
  },
  {
   "cell_type": "code",
   "execution_count": 34,
   "id": "42bfe7ab",
   "metadata": {},
   "outputs": [
    {
     "name": "stdout",
     "output_type": "stream",
     "text": [
      "PSNR value is -7.089404816222747 dB\n"
     ]
    }
   ],
   "source": [
    "from math import log10, sqrt\n",
    "import cv2\n",
    "import numpy as np\n",
    "def PSNR(original, compressed):\n",
    "    mse = np.mean((original - compressed) ** 2)\n",
    "    if(mse == 0): # MSE is zero means no noise is present in the signal .\n",
    "        # Therefore PSNR have no importance.\n",
    "        return 100\n",
    "    max_pixel = 255.0\n",
    "    psnr = 20 * log10(max_pixel / sqrt(mse))\n",
    "    return psnr\n",
    "\n",
    "def main():\n",
    "#     original = cv2.imread(\"1 no.jpeg\")\n",
    "#     compressed = cv2.imread(\"output.png\", 1)\n",
    "    value = PSNR(sobely, highPass)\n",
    "    print(f\"PSNR value is {value} dB\")\n",
    "\n",
    "if __name__ == \"__main__\":\n",
    "    main()"
   ]
  },
  {
   "cell_type": "code",
   "execution_count": 18,
   "id": "a4074db8",
   "metadata": {},
   "outputs": [
    {
     "data": {
      "image/png": "[encoded data removed]",
      "text/plain": [
       "<Figure size 432x288 with 1 Axes>"
      ]
     },
     "metadata": {
      "needs_background": "light"
     },
     "output_type": "display_data"
    }
   ],
   "source": [
    "img = cv2.imread(\"1 no.jpeg\")\n",
    "import matplotlib.pyplot as plt\n",
    "plt.hist(img.ravel(),256,[0,256])\n",
    "plt.show()"
   ]
  },
  {
   "cell_type": "code",
   "execution_count": 2,
   "id": "b4432b6a",
   "metadata": {},
   "outputs": [],
   "source": [
    "from PIL import Image, ImageFilter\n",
    "image = Image.open(r\"1 no.jpeg\")\n",
    "# Cropping the image\n",
    "smol_image = image.crop((0, 0, 150, 150))\n",
    "# Blurring on the cropped image\n",
    "blurred_image = smol_image.filter(ImageFilter.GaussianBlur)\n",
    "# Pasting the blurred image on the original image\n",
    "image.paste(blurred_image, (0,0))\n",
    "# Displaying the image\n",
    "image.save('output.png')"
   ]
  },
  {
   "cell_type": "code",
   "execution_count": 3,
   "id": "a1160f68",
   "metadata": {},
   "outputs": [
    {
     "name": "stdout",
     "output_type": "stream",
     "text": [
      "PSNR value is 62.138746913738885 dB\n"
     ]
    }
   ],
   "source": [
    "from math import log10, sqrt\n",
    "import cv2\n",
    "import numpy as np\n",
    "def PSNR(original, compressed):\n",
    "    mse = np.mean((original - compressed) ** 2)\n",
    "    if(mse == 0): # MSE is zero means no noise is present in the signal .\n",
    "        # Therefore PSNR have no importance.\n",
    "        return 100\n",
    "    max_pixel = 255.0\n",
    "    psnr = 20 * log10(max_pixel / sqrt(mse))\n",
    "    return psnr\n",
    "\n",
    "def main():\n",
    "    original = cv2.imread(\"1 no.jpeg\")\n",
    "    compressed = cv2.imread(\"output.png\", 1)\n",
    "    value = PSNR(original, compressed)\n",
    "    print(f\"PSNR value is {value} dB\")\n",
    "\n",
    "if __name__ == \"__main__\":\n",
    "    main()"
   ]
  },
  {
   "cell_type": "code",
   "execution_count": 34,
   "id": "61081f19",
   "metadata": {},
   "outputs": [],
   "source": [
    "import cv2\n",
    "import numpy as np\n",
    "img = cv2.imread(\"1 no.jpeg\",0)\n",
    "equ = cv2.equalizeHist(img)"
   ]
  },
  {
   "cell_type": "code",
   "execution_count": 30,
   "id": "7cf7895a",
   "metadata": {},
   "outputs": [],
   "source": [
    "import cv2\n",
    "import numpy as np\n",
    "img = cv2.imread(\"sobelX.jpg\")\n",
    "equ = cv2.equalizeHist(img)"
   ]
  },
  {
   "cell_type": "code",
   "execution_count": 35,
   "id": "464f35f2",
   "metadata": {},
   "outputs": [],
   "source": [
    "cv2.imshow(\"Equalise\",np.hstack((img, equ)))\n",
    "cv2.waitKey(0)\n",
    "cv2.destroyAllWindows()"
   ]
  },
  {
   "cell_type": "code",
   "execution_count": 5,
   "id": "53670a1b",
   "metadata": {},
   "outputs": [],
   "source": [
    "import cv2\n",
    "import numpy as np\n",
    "img = cv2.imread(\"1 no.jpeg\") # Read image\n",
    "\n",
    "sobelx = cv2.Sobel(img,cv2.CV_64F,1,0,ksize=5)  # x\n",
    "sobely = cv2.Sobel(img,cv2.CV_64F,0,1,ksize=5)  # y\n",
    "\n",
    "cv2.imshow('original', img)\n",
    "cv2.imshow(\"SobelX  SobelY\",np.hstack((sobelx,sobely)))\n",
    "\n",
    "\n",
    "# cv2.imshow('original', img)\n",
    "# cv2.imshow('sobelx', sobelx)\n",
    "# cv2.imshow('sobely', sobely)\n",
    "cv2.waitKey(0)\n",
    "cv2.destroyAllWindows()\n",
    "\n"
   ]
  },
  {
   "cell_type": "code",
   "execution_count": 6,
   "id": "3b3d5f1e",
   "metadata": {},
   "outputs": [],
   "source": [
    "cv2.imshow('sobely', sobely)\n",
    "cv2.waitKey(0)\n",
    "cv2.destroyAllWindows()"
   ]
  },
  {
   "cell_type": "code",
   "execution_count": 7,
   "id": "b6fd7831",
   "metadata": {
    "scrolled": true
   },
   "outputs": [
    {
     "data": {
      "image/png": "[encoded data removed]",
      "text/plain": [
       "<Figure size 432x288 with 1 Axes>"
      ]
     },
     "metadata": {
      "needs_background": "light"
     },
     "output_type": "display_data"
    }
   ],
   "source": [
    "import matplotlib.pyplot as plt\n",
    "hist,bins = np.histogram(sobely,[0,256])\n",
    "\n",
    "cdf = hist.cumsum()\n",
    "cdf_normalized = cdf * hist.max()/ cdf.max()\n",
    "\n",
    "plt.plot(cdf_normalized, color = 'b')\n",
    "plt.hist(img.flatten(),256,[0,256], color = 'r')\n",
    "plt.xlim([0,256])\n",
    "plt.legend(('cdf','histogram'), loc = 'upper left')\n",
    "plt.show()"
   ]
  },
  {
   "cell_type": "code",
   "execution_count": 8,
   "id": "1f7a2502",
   "metadata": {},
   "outputs": [],
   "source": [
    "cdf_m = np.ma.masked_equal(cdf,0)\n",
    "cdf_m = (cdf_m - cdf_m.min())*255/(cdf_m.max()-cdf_m.min())\n",
    "cdf = np.ma.filled(cdf_m,0).astype('uint8')"
   ]
  },
  {
   "cell_type": "code",
   "execution_count": 9,
   "id": "6620f254",
   "metadata": {},
   "outputs": [
    {
     "ename": "IndexError",
     "evalue": "index 1 is out of bounds for axis 0 with size 1",
     "output_type": "error",
     "traceback": [
      "\u001b[1;31m---------------------------------------------------------------------------\u001b[0m",
      "\u001b[1;31mIndexError\u001b[0m                                Traceback (most recent call last)",
      "\u001b[1;32m<ipython-input-9-1d196fabbe46>\u001b[0m in \u001b[0;36m<module>\u001b[1;34m\u001b[0m\n\u001b[1;32m----> 1\u001b[1;33m \u001b[0mimg2\u001b[0m \u001b[1;33m=\u001b[0m \u001b[0mcdf\u001b[0m\u001b[1;33m[\u001b[0m\u001b[0mimg\u001b[0m\u001b[1;33m]\u001b[0m\u001b[1;33m\u001b[0m\u001b[0m\n\u001b[0m",
      "\u001b[1;31mIndexError\u001b[0m: index 1 is out of bounds for axis 0 with size 1"
     ]
    }
   ],
   "source": [
    "img2 = cdf[img]"
   ]
  },
  {
   "cell_type": "code",
   "execution_count": 10,
   "id": "4c7aa3c2",
   "metadata": {},
   "outputs": [],
   "source": [
    "cv2.imshow('',np.hstack(img2))\n",
    "cv2.waitKey(0)\n",
    "cv2.destroyAllWindows()\n"
   ]
  },
  {
   "cell_type": "code",
   "execution_count": 1,
   "id": "5efd530c",
   "metadata": {},
   "outputs": [
    {
     "data": {
      "image/png": "[encoded data removed]",
      "text/plain": [
       "<Figure size 432x288 with 1 Axes>"
      ]
     },
     "metadata": {
      "needs_background": "light"
     },
     "output_type": "display_data"
    }
   ],
   "source": [
    "import cv2\n",
    "import numpy as np\n",
    "from matplotlib import pyplot as plt\n",
    "\n",
    "img = cv2.imread('sobelX.png',0)\n",
    "\n",
    "hist,bins = np.histogram(img.flatten(),256,[0,256])\n",
    "\n",
    "cdf = hist.cumsum()\n",
    "cdf_normalized = cdf * hist.max()/ cdf.max()\n",
    "\n",
    "plt.plot(cdf_normalized, color = 'b')\n",
    "plt.hist(img.flatten(),256,[0,256], color = 'r')\n",
    "plt.xlim([0,256])\n",
    "plt.legend(('cdf','histogram'), loc = 'upper left')\n",
    "plt.show()"
   ]
  },
  {
   "cell_type": "code",
   "execution_count": 2,
   "id": "d4144dc8",
   "metadata": {},
   "outputs": [],
   "source": [
    "cdf_m = np.ma.masked_equal(cdf,0)\n",
    "cdf_m = (cdf_m - cdf_m.min())*255/(cdf_m.max()-cdf_m.min())\n",
    "cdf = np.ma.filled(cdf_m,0).astype('uint8')"
   ]
  },
  {
   "cell_type": "code",
   "execution_count": 3,
   "id": "75e6fb7e",
   "metadata": {},
   "outputs": [],
   "source": [
    "img2 = cdf[img]"
   ]
  },
  {
   "cell_type": "code",
   "execution_count": 4,
   "id": "4a8d18bf",
   "metadata": {},
   "outputs": [],
   "source": [
    "cv2.imshow('',np.hstack(img2))\n",
    "cv2.waitKey(0)\n",
    "cv2.destroyAllWindows()"
   ]
  },
  {
   "cell_type": "code",
   "execution_count": 24,
   "id": "138ada5e",
   "metadata": {},
   "outputs": [
    {
     "ename": "error",
     "evalue": "OpenCV(4.5.2) C:\\Users\\runneradmin\\AppData\\Local\\Temp\\pip-req-build-inblc7p7\\opencv\\modules\\imgproc\\src\\histogram.cpp:3439: error: (-215:Assertion failed) _src.type() == CV_8UC1 in function 'cv::equalizeHist'\n",
     "output_type": "error",
     "traceback": [
      "\u001b[1;31m---------------------------------------------------------------------------\u001b[0m",
      "\u001b[1;31merror\u001b[0m                                     Traceback (most recent call last)",
      "\u001b[1;32m<ipython-input-24-f03f2b748c43>\u001b[0m in \u001b[0;36m<module>\u001b[1;34m\u001b[0m\n\u001b[1;32m----> 1\u001b[1;33m \u001b[0mequ\u001b[0m \u001b[1;33m=\u001b[0m \u001b[0mcv2\u001b[0m\u001b[1;33m.\u001b[0m\u001b[0mequalizeHist\u001b[0m\u001b[1;33m(\u001b[0m\u001b[0mhighPass\u001b[0m\u001b[1;33m)\u001b[0m\u001b[1;33m\u001b[0m\u001b[0m\n\u001b[0m",
      "\u001b[1;31merror\u001b[0m: OpenCV(4.5.2) C:\\Users\\runneradmin\\AppData\\Local\\Temp\\pip-req-build-inblc7p7\\opencv\\modules\\imgproc\\src\\histogram.cpp:3439: error: (-215:Assertion failed) _src.type() == CV_8UC1 in function 'cv::equalizeHist'\n"
     ]
    }
   ],
   "source": [
    "equ = cv2.equalizeHist(highPass)"
   ]
  },
  {
   "cell_type": "code",
   "execution_count": null,
   "id": "6edfdc7b",
   "metadata": {},
   "outputs": [],
   "source": [
    "equ = cv2.equalizeHist(img)"
   ]
  },
  {
   "cell_type": "code",
   "execution_count": 7,
   "id": "3974a96b",
   "metadata": {},
   "outputs": [],
   "source": [
    "cv2.imshow(\"Equalise\",np.hstack((img, equ)))\n",
    "cv2.waitKey(0)\n",
    "cv2.destroyAllWindows()"
   ]
  },
  {
   "cell_type": "code",
   "execution_count": 8,
   "id": "2dcb95e5",
   "metadata": {},
   "outputs": [
    {
     "name": "stdout",
     "output_type": "stream",
     "text": [
      "PSNR value is 29.02762633014561 dB\n"
     ]
    }
   ],
   "source": [
    "from math import log10, sqrt\n",
    "import cv2\n",
    "import numpy as np\n",
    "def PSNR(original, compressed):\n",
    "    mse = np.mean((original - compressed) ** 2)\n",
    "    if(mse == 0): # MSE is zero means no noise is present in the signal .\n",
    "        # Therefore PSNR have no importance.\n",
    "        return 100\n",
    "    max_pixel = 255.0\n",
    "    psnr = 20 * log10(max_pixel / sqrt(mse))\n",
    "    return psnr\n",
    "\n",
    "def main():\n",
    "#     original = cv2.imread(\"1 no.jpeg\")\n",
    "#     compressed = cv2.imread(\"output.png\", 1)\n",
    "    value = PSNR(img, equ)\n",
    "    print(f\"PSNR value is {value} dB\")\n",
    "\n",
    "if __name__ == \"__main__\":\n",
    "    main()"
   ]
  },
  {
   "cell_type": "code",
   "execution_count": null,
   "id": "1f7c87d2",
   "metadata": {},
   "outputs": [],
   "source": [
    "from math import log10, sqrt\n",
    "import cv2\n",
    "import numpy as np\n",
    "def PSNR(original, compressed):\n",
    "    mse = np.mean((original - compressed) ** 2)\n",
    "    if(mse == 0): # MSE is zero means no noise is present in the signal .\n",
    "        # Therefore PSNR have no importance.\n",
    "        return 100\n",
    "    max_pixel = 255.0\n",
    "    psnr = 20 * log10(max_pixel / sqrt(mse))\n",
    "    return psnr\n",
    "\n",
    "def main():\n",
    "#     original = cv2.imread(\"1 no.jpeg\")\n",
    "#     compressed = cv2.imread(\"output.png\", 1)\n",
    "    value = PSNR(img, equ)\n",
    "    print(f\"PSNR value is {value} dB\")\n",
    "\n",
    "if __name__ == \"__main__\":\n",
    "    main()"
   ]
  },
  {
   "cell_type": "code",
   "execution_count": null,
   "id": "367edc32",
   "metadata": {},
   "outputs": [],
   "source": [
    "from math import log10, sqrt\n",
    "import cv2\n",
    "import numpy as np\n",
    "def PSNR(original, compressed):\n",
    "    mse = np.mean((original - compressed) ** 2)\n",
    "    if(mse == 0): # MSE is zero means no noise is present in the signal .\n",
    "        # Therefore PSNR have no importance.\n",
    "        return 100\n",
    "    max_pixel = 255.0\n",
    "    psnr = 20 * log10(max_pixel / sqrt(mse))\n",
    "    return psnr\n",
    "\n",
    "def main():\n",
    "#     original = cv2.imread(\"1 no.jpeg\")\n",
    "#     compressed = cv2.imread(\"output.png\", 1)\n",
    "    value = PSNR(img, equ)\n",
    "    print(f\"PSNR value is {value} dB\")\n",
    "\n",
    "if __name__ == \"__main__\":\n",
    "    main()"
   ]
  },
  {
   "cell_type": "code",
   "execution_count": null,
   "id": "4462d60b",
   "metadata": {},
   "outputs": [],
   "source": []
  },
  {
   "cell_type": "code",
   "execution_count": null,
   "id": "e279092d",
   "metadata": {},
   "outputs": [],
   "source": []
  },
  {
   "cell_type": "code",
   "execution_count": null,
   "id": "a9c6f665",
   "metadata": {},
   "outputs": [],
   "source": []
  }
 ],
 "metadata": {
  "kernelspec": {
   "display_name": "Python 3",
   "language": "python",
   "name": "python3"
  },
  "language_info": {
   "codemirror_mode": {
    "name": "ipython",
    "version": 3
   },
   "file_extension": ".py",
   "mimetype": "text/x-python",
   "name": "python",
   "nbconvert_exporter": "python",
   "pygments_lexer": "ipython3",
   "version": "3.7.0"
  }
 },
 "nbformat": 4,
 "nbformat_minor": 5
}
